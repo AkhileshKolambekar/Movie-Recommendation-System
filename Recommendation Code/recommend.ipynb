{
 "cells": [
  {
   "cell_type": "code",
   "execution_count": 1,
   "metadata": {},
   "outputs": [],
   "source": [
    "import pandas as pd\n",
    "import numpy as np\n",
    "\n",
    "from sklearn.metrics.pairwise import cosine_similarity"
   ]
  },
  {
   "cell_type": "code",
   "execution_count": 2,
   "metadata": {},
   "outputs": [
    {
     "data": {
      "text/html": [
       "<div>\n",
       "<style scoped>\n",
       "    .dataframe tbody tr th:only-of-type {\n",
       "        vertical-align: middle;\n",
       "    }\n",
       "\n",
       "    .dataframe tbody tr th {\n",
       "        vertical-align: top;\n",
       "    }\n",
       "\n",
       "    .dataframe thead th {\n",
       "        text-align: right;\n",
       "    }\n",
       "</style>\n",
       "<table border=\"1\" class=\"dataframe\">\n",
       "  <thead>\n",
       "    <tr style=\"text-align: right;\">\n",
       "      <th></th>\n",
       "      <th>title</th>\n",
       "      <th>overview</th>\n",
       "      <th>keywords</th>\n",
       "      <th>genres</th>\n",
       "      <th>director</th>\n",
       "      <th>film_cast</th>\n",
       "      <th>tags</th>\n",
       "    </tr>\n",
       "  </thead>\n",
       "  <tbody>\n",
       "    <tr>\n",
       "      <th>0</th>\n",
       "      <td>Toy Story</td>\n",
       "      <td>led by woody, andy's toy live happily in his r...</td>\n",
       "      <td>jealousy toy boy friendship friend rivalry boy...</td>\n",
       "      <td>animation comedy family</td>\n",
       "      <td>johnlasseter</td>\n",
       "      <td>tomhanks timallen donrickles jimvarney wallace...</td>\n",
       "      <td>led by woody, andy toy live happily in his roo...</td>\n",
       "    </tr>\n",
       "    <tr>\n",
       "      <th>1</th>\n",
       "      <td>Jumanji</td>\n",
       "      <td>when sibling judy and peter discover an enchan...</td>\n",
       "      <td>board game disappearance new home recluse gian...</td>\n",
       "      <td>adventure fantasy family</td>\n",
       "      <td>joejohnston</td>\n",
       "      <td>robinwilliams jonathanhyde kirstendunst bradle...</td>\n",
       "      <td>when sibling judy and peter discover an enchan...</td>\n",
       "    </tr>\n",
       "    <tr>\n",
       "      <th>2</th>\n",
       "      <td>Grumpier Old Men</td>\n",
       "      <td>a family wedding reignites the ancient feud be...</td>\n",
       "      <td>fishing best friend duringcreditsstinger old men</td>\n",
       "      <td>romance comedy</td>\n",
       "      <td>howarddeutch</td>\n",
       "      <td>waltermatthau jacklemmon ann-margret sophialor...</td>\n",
       "      <td>a family wedding reignites the ancient feud be...</td>\n",
       "    </tr>\n",
       "    <tr>\n",
       "      <th>3</th>\n",
       "      <td>Waiting to Exhale</td>\n",
       "      <td>cheated on, mistreated and stepped on, the wom...</td>\n",
       "      <td>based on novel interracial relationship single...</td>\n",
       "      <td>comedy drama romance</td>\n",
       "      <td>forestwhitaker</td>\n",
       "      <td>whitneyhouston angelabassett lorettadevine lel...</td>\n",
       "      <td>cheated on, mistreated and stepped on, the wom...</td>\n",
       "    </tr>\n",
       "    <tr>\n",
       "      <th>4</th>\n",
       "      <td>Father of the Bride Part II</td>\n",
       "      <td>just when george bank ha recovered from his da...</td>\n",
       "      <td>baby midlife crisis confidence aging daughter ...</td>\n",
       "      <td>comedy</td>\n",
       "      <td>charlesshyer</td>\n",
       "      <td>stevemartin dianekeaton martinshort kimberlywi...</td>\n",
       "      <td>just when george bank ha recovered from his da...</td>\n",
       "    </tr>\n",
       "  </tbody>\n",
       "</table>\n",
       "</div>"
      ],
      "text/plain": [
       "                         title  \\\n",
       "0                    Toy Story   \n",
       "1                      Jumanji   \n",
       "2             Grumpier Old Men   \n",
       "3            Waiting to Exhale   \n",
       "4  Father of the Bride Part II   \n",
       "\n",
       "                                            overview  \\\n",
       "0  led by woody, andy's toy live happily in his r...   \n",
       "1  when sibling judy and peter discover an enchan...   \n",
       "2  a family wedding reignites the ancient feud be...   \n",
       "3  cheated on, mistreated and stepped on, the wom...   \n",
       "4  just when george bank ha recovered from his da...   \n",
       "\n",
       "                                            keywords  \\\n",
       "0  jealousy toy boy friendship friend rivalry boy...   \n",
       "1  board game disappearance new home recluse gian...   \n",
       "2   fishing best friend duringcreditsstinger old men   \n",
       "3  based on novel interracial relationship single...   \n",
       "4  baby midlife crisis confidence aging daughter ...   \n",
       "\n",
       "                     genres        director  \\\n",
       "0   animation comedy family    johnlasseter   \n",
       "1  adventure fantasy family     joejohnston   \n",
       "2            romance comedy    howarddeutch   \n",
       "3      comedy drama romance  forestwhitaker   \n",
       "4                    comedy    charlesshyer   \n",
       "\n",
       "                                           film_cast  \\\n",
       "0  tomhanks timallen donrickles jimvarney wallace...   \n",
       "1  robinwilliams jonathanhyde kirstendunst bradle...   \n",
       "2  waltermatthau jacklemmon ann-margret sophialor...   \n",
       "3  whitneyhouston angelabassett lorettadevine lel...   \n",
       "4  stevemartin dianekeaton martinshort kimberlywi...   \n",
       "\n",
       "                                                tags  \n",
       "0  led by woody, andy toy live happily in his roo...  \n",
       "1  when sibling judy and peter discover an enchan...  \n",
       "2  a family wedding reignites the ancient feud be...  \n",
       "3  cheated on, mistreated and stepped on, the wom...  \n",
       "4  just when george bank ha recovered from his da...  "
      ]
     },
     "execution_count": 2,
     "metadata": {},
     "output_type": "execute_result"
    }
   ],
   "source": [
    "df = pd.read_csv('final_clean.csv')\n",
    "df.head()"
   ]
  },
  {
   "cell_type": "code",
   "execution_count": 3,
   "metadata": {},
   "outputs": [
    {
     "data": {
      "text/plain": [
       "array([[1.        , 0.04990651, 0.07186995, ..., 0.        , 0.04992019,\n",
       "        0.        ],\n",
       "       [0.04990651, 1.        , 0.04734548, ..., 0.        , 0.02192382,\n",
       "        0.02440477],\n",
       "       [0.07186995, 0.04734548, 1.        , ..., 0.        , 0.01262892,\n",
       "        0.02811608],\n",
       "       ...,\n",
       "       [0.        , 0.        , 0.        , ..., 1.        , 0.05735393,\n",
       "        0.        ],\n",
       "       [0.04992019, 0.02192382, 0.01262892, ..., 0.05735393, 1.        ,\n",
       "        0.        ],\n",
       "       [0.        , 0.02440477, 0.02811608, ..., 0.        , 0.        ,\n",
       "        1.        ]])"
      ]
     },
     "execution_count": 3,
     "metadata": {},
     "output_type": "execute_result"
    }
   ],
   "source": [
    "similarity = np.load('similarity.npy')\n",
    "similarity"
   ]
  },
  {
   "cell_type": "code",
   "execution_count": 10,
   "metadata": {},
   "outputs": [],
   "source": [
    "def recommend(movie_title,top_n):\n",
    "    movie_index = df[df['title'] == movie_title].index[0]\n",
    "    distances = similarity[movie_index]\n",
    "    sim = sorted(list(enumerate(distances)),reverse = True, key = lambda x:x[1])\n",
    "    for i in sim[1:top_n+1]:\n",
    "        print(df.iloc[i[0]]['title'])"
   ]
  },
  {
   "cell_type": "code",
   "execution_count": 11,
   "metadata": {},
   "outputs": [
    {
     "name": "stdout",
     "output_type": "stream",
     "text": [
      "Toy Story 2\n",
      "Toy Story 3\n",
      "Small Soldiers\n",
      "Toy Story of Terror!\n",
      "Hawaiian Vacation\n",
      "Small Fry\n",
      "Partysaurus Rex\n",
      "Toy Story That Time Forgot\n",
      "Silent Night, Deadly Night 5: The Toy Maker\n",
      "Toy Reanimator\n"
     ]
    }
   ],
   "source": [
    "recommend('Toy Story',10)"
   ]
  },
  {
   "cell_type": "code",
   "execution_count": 13,
   "metadata": {},
   "outputs": [
    {
     "name": "stdout",
     "output_type": "stream",
     "text": [
      "Marvel Studios: Assembling a Universe\n",
      "Marvel One-Shot: The Consultant\n",
      "Marvel One-Shot: Item 47\n",
      "Marvel One-Shot: Agent Carter\n",
      "Thor: Ragnarok\n",
      "Marvel One-Shot: All Hail the King\n",
      "Iron Man\n",
      "Doctor Strange\n",
      "The Avengers\n",
      "Team Thor\n",
      "Guardians of the Galaxy\n",
      "Avengers: Age of Ultron\n",
      "Thor: The Dark World\n",
      "Captain America: Civil War\n",
      "Iron Man 3\n",
      "Thor\n",
      "Iron Man 2\n",
      "Marvel: 75 Years, From Pulp to Pop!\n",
      "Ant-Man\n",
      "The Incredible Hulk\n"
     ]
    }
   ],
   "source": [
    "recommend(\"Marvel One-Shot: A Funny Thing Happened on the Way to Thor's Hammer\",20)"
   ]
  },
  {
   "cell_type": "code",
   "execution_count": 14,
   "metadata": {},
   "outputs": [
    {
     "name": "stdout",
     "output_type": "stream",
     "text": [
      "Justice League vs. Teen Titans\n",
      "LEGO DC Comics Super Heroes: Batman: Be-Leaguered\n",
      "Batman Beyond Darwyn Cooke's Batman 75th Anniversary Short\n",
      "Superman vs. The Elite\n",
      "Batman: Strange Days\n",
      "Justice League Dark\n",
      "Man of Steel\n",
      "X-Men\n",
      "Batman: Assault on Arkham\n",
      "Justice League: Doom\n",
      "Justice League: Gods and Monsters\n",
      "Superman: Doomsday\n",
      "Justice League\n",
      "Green Lantern: First Flight\n",
      "Justice League: The New Frontier\n"
     ]
    }
   ],
   "source": [
    "recommend(\"Teen Titans: The Judas Contract\",15)"
   ]
  },
  {
   "cell_type": "code",
   "execution_count": 16,
   "metadata": {},
   "outputs": [
    {
     "name": "stdout",
     "output_type": "stream",
     "text": [
      "Baahubali: The Beginning\n",
      "The Last King\n",
      "Flyboys\n",
      "Red Tails\n",
      "The 10th Kingdom\n"
     ]
    }
   ],
   "source": [
    "recommend('Baahubali 2: The Conclusion',5)"
   ]
  },
  {
   "cell_type": "code",
   "execution_count": 18,
   "metadata": {},
   "outputs": [
    {
     "name": "stdout",
     "output_type": "stream",
     "text": [
      "LEGO DC Comics Super Heroes: Batman: Be-Leaguered\n",
      "The Lego Movie\n",
      "Batman Beyond Darwyn Cooke's Batman 75th Anniversary Short\n",
      "Batman: The Dark Knight Returns, Part 2\n",
      "Batman: Under the Red Hood\n",
      "Batman Returns\n",
      "Batman: Assault on Arkham\n",
      "Batman: Mask of the Phantasm\n",
      "The Dark Knight\n",
      "LEGO DC Comics Super Heroes: Justice League - Gotham City Breakout\n",
      "Justice League Dark\n",
      "Batman v Superman: Dawn of Justice\n",
      "Batman Unmasked: The Psychology of the Dark Knight\n",
      "Batman vs. Robin\n",
      "Lego Batman: The Movie - DC Super Heroes Unite\n",
      "Batman: The Killing Joke\n",
      "Justice League vs. Teen Titans\n",
      "Justice League: The New Frontier\n",
      "The Batman Superman Movie: World's Finest\n",
      "LEGO: The Adventures of Clutch Powers\n"
     ]
    }
   ],
   "source": [
    "recommend('The Lego Batman Movie',20)"
   ]
  }
 ],
 "metadata": {
  "kernelspec": {
   "display_name": "Python 3",
   "language": "python",
   "name": "python3"
  },
  "language_info": {
   "codemirror_mode": {
    "name": "ipython",
    "version": 3
   },
   "file_extension": ".py",
   "mimetype": "text/x-python",
   "name": "python",
   "nbconvert_exporter": "python",
   "pygments_lexer": "ipython3",
   "version": "3.9.0"
  }
 },
 "nbformat": 4,
 "nbformat_minor": 2
}

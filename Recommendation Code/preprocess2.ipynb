{
 "cells": [
  {
   "cell_type": "code",
   "execution_count": 1,
   "metadata": {},
   "outputs": [],
   "source": [
    "import pandas as pd\n",
    "import numpy as np\n",
    "\n",
    "from sklearn.feature_extraction.text import CountVectorizer\n",
    "from sklearn.metrics.pairwise import cosine_similarity\n",
    "\n",
    "from nltk.corpus import stopwords\n",
    "\n",
    "import warnings\n",
    "warnings.filterwarnings('ignore')"
   ]
  },
  {
   "cell_type": "code",
   "execution_count": 2,
   "metadata": {},
   "outputs": [
    {
     "data": {
      "text/html": [
       "<div>\n",
       "<style scoped>\n",
       "    .dataframe tbody tr th:only-of-type {\n",
       "        vertical-align: middle;\n",
       "    }\n",
       "\n",
       "    .dataframe tbody tr th {\n",
       "        vertical-align: top;\n",
       "    }\n",
       "\n",
       "    .dataframe thead th {\n",
       "        text-align: right;\n",
       "    }\n",
       "</style>\n",
       "<table border=\"1\" class=\"dataframe\">\n",
       "  <thead>\n",
       "    <tr style=\"text-align: right;\">\n",
       "      <th></th>\n",
       "      <th>title</th>\n",
       "      <th>overview</th>\n",
       "      <th>keywords</th>\n",
       "      <th>genres</th>\n",
       "      <th>director</th>\n",
       "      <th>film_cast</th>\n",
       "      <th>tags</th>\n",
       "    </tr>\n",
       "  </thead>\n",
       "  <tbody>\n",
       "    <tr>\n",
       "      <th>0</th>\n",
       "      <td>Toy Story</td>\n",
       "      <td>led by woody, andy's toy live happily in his r...</td>\n",
       "      <td>jealousy toy boy friendship friend rivalry boy...</td>\n",
       "      <td>animation comedy family</td>\n",
       "      <td>johnlasseter</td>\n",
       "      <td>tomhanks timallen donrickles jimvarney wallace...</td>\n",
       "      <td>led by woody, andy toy live happily in his roo...</td>\n",
       "    </tr>\n",
       "    <tr>\n",
       "      <th>1</th>\n",
       "      <td>Jumanji</td>\n",
       "      <td>when sibling judy and peter discover an enchan...</td>\n",
       "      <td>board game disappearance new home recluse gian...</td>\n",
       "      <td>adventure fantasy family</td>\n",
       "      <td>joejohnston</td>\n",
       "      <td>robinwilliams jonathanhyde kirstendunst bradle...</td>\n",
       "      <td>when sibling judy and peter discover an enchan...</td>\n",
       "    </tr>\n",
       "    <tr>\n",
       "      <th>2</th>\n",
       "      <td>Grumpier Old Men</td>\n",
       "      <td>a family wedding reignites the ancient feud be...</td>\n",
       "      <td>fishing best friend duringcreditsstinger old men</td>\n",
       "      <td>romance comedy</td>\n",
       "      <td>howarddeutch</td>\n",
       "      <td>waltermatthau jacklemmon ann-margret sophialor...</td>\n",
       "      <td>a family wedding reignites the ancient feud be...</td>\n",
       "    </tr>\n",
       "    <tr>\n",
       "      <th>3</th>\n",
       "      <td>Waiting to Exhale</td>\n",
       "      <td>cheated on, mistreated and stepped on, the wom...</td>\n",
       "      <td>based on novel interracial relationship single...</td>\n",
       "      <td>comedy drama romance</td>\n",
       "      <td>forestwhitaker</td>\n",
       "      <td>whitneyhouston angelabassett lorettadevine lel...</td>\n",
       "      <td>cheated on, mistreated and stepped on, the wom...</td>\n",
       "    </tr>\n",
       "    <tr>\n",
       "      <th>4</th>\n",
       "      <td>Father of the Bride Part II</td>\n",
       "      <td>just when george bank ha recovered from his da...</td>\n",
       "      <td>baby midlife crisis confidence aging daughter ...</td>\n",
       "      <td>comedy</td>\n",
       "      <td>charlesshyer</td>\n",
       "      <td>stevemartin dianekeaton martinshort kimberlywi...</td>\n",
       "      <td>just when george bank ha recovered from his da...</td>\n",
       "    </tr>\n",
       "  </tbody>\n",
       "</table>\n",
       "</div>"
      ],
      "text/plain": [
       "                         title  \\\n",
       "0                    Toy Story   \n",
       "1                      Jumanji   \n",
       "2             Grumpier Old Men   \n",
       "3            Waiting to Exhale   \n",
       "4  Father of the Bride Part II   \n",
       "\n",
       "                                            overview  \\\n",
       "0  led by woody, andy's toy live happily in his r...   \n",
       "1  when sibling judy and peter discover an enchan...   \n",
       "2  a family wedding reignites the ancient feud be...   \n",
       "3  cheated on, mistreated and stepped on, the wom...   \n",
       "4  just when george bank ha recovered from his da...   \n",
       "\n",
       "                                            keywords  \\\n",
       "0  jealousy toy boy friendship friend rivalry boy...   \n",
       "1  board game disappearance new home recluse gian...   \n",
       "2   fishing best friend duringcreditsstinger old men   \n",
       "3  based on novel interracial relationship single...   \n",
       "4  baby midlife crisis confidence aging daughter ...   \n",
       "\n",
       "                     genres        director  \\\n",
       "0   animation comedy family    johnlasseter   \n",
       "1  adventure fantasy family     joejohnston   \n",
       "2            romance comedy    howarddeutch   \n",
       "3      comedy drama romance  forestwhitaker   \n",
       "4                    comedy    charlesshyer   \n",
       "\n",
       "                                           film_cast  \\\n",
       "0  tomhanks timallen donrickles jimvarney wallace...   \n",
       "1  robinwilliams jonathanhyde kirstendunst bradle...   \n",
       "2  waltermatthau jacklemmon ann-margret sophialor...   \n",
       "3  whitneyhouston angelabassett lorettadevine lel...   \n",
       "4  stevemartin dianekeaton martinshort kimberlywi...   \n",
       "\n",
       "                                                tags  \n",
       "0  led by woody, andy toy live happily in his roo...  \n",
       "1  when sibling judy and peter discover an enchan...  \n",
       "2  a family wedding reignites the ancient feud be...  \n",
       "3  cheated on, mistreated and stepped on, the wom...  \n",
       "4  just when george bank ha recovered from his da...  "
      ]
     },
     "execution_count": 2,
     "metadata": {},
     "output_type": "execute_result"
    }
   ],
   "source": [
    "df = pd.read_csv('cleaned.csv')\n",
    "df =df[['title','overview','keywords','genres','director','film_cast','tags']]\n",
    "df.head()"
   ]
  },
  {
   "cell_type": "code",
   "execution_count": 3,
   "metadata": {},
   "outputs": [
    {
     "name": "stdout",
     "output_type": "stream",
     "text": [
      "(45471, 7)\n",
      "(44319, 7)\n"
     ]
    }
   ],
   "source": [
    "print(df.shape)\n",
    "df.drop_duplicates(inplace=True)\n",
    "df.reset_index(drop=True,inplace=True)\n",
    "print(df.shape)"
   ]
  },
  {
   "cell_type": "code",
   "execution_count": 11,
   "metadata": {},
   "outputs": [],
   "source": [
    "df.to_csv('final_clean.csv',index = False)"
   ]
  },
  {
   "cell_type": "code",
   "execution_count": 4,
   "metadata": {},
   "outputs": [
    {
     "data": {
      "text/plain": [
       "<44319x162824 sparse matrix of type '<class 'numpy.int64'>'\n",
       "\twith 1799861 stored elements in Compressed Sparse Row format>"
      ]
     },
     "execution_count": 4,
     "metadata": {},
     "output_type": "execute_result"
    }
   ],
   "source": [
    "cv = CountVectorizer(stop_words= stopwords.words('english'))\n",
    "transformed = cv.fit_transform(df['tags'])\n",
    "transformed"
   ]
  },
  {
   "cell_type": "code",
   "execution_count": 5,
   "metadata": {},
   "outputs": [],
   "source": [
    "similarity = cosine_similarity(transformed)"
   ]
  },
  {
   "cell_type": "code",
   "execution_count": 7,
   "metadata": {},
   "outputs": [],
   "source": [
    "np.save('similarity',similarity)"
   ]
  }
 ],
 "metadata": {
  "kernelspec": {
   "display_name": "Python 3",
   "language": "python",
   "name": "python3"
  },
  "language_info": {
   "codemirror_mode": {
    "name": "ipython",
    "version": 3
   },
   "file_extension": ".py",
   "mimetype": "text/x-python",
   "name": "python",
   "nbconvert_exporter": "python",
   "pygments_lexer": "ipython3",
   "version": "3.9.0"
  }
 },
 "nbformat": 4,
 "nbformat_minor": 2
}
